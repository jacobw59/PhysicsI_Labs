{
  "cells": [
    {
      "cell_type": "markdown",
      "metadata": {
        "id": "view-in-github",
        "colab_type": "text"
      },
      "source": [
        "<a href=\"https://colab.research.google.com/github/jacobw59/PhysicsI_Labs/blob/main/phy122_N1L.ipynb\" target=\"_parent\"><img src=\"https://colab.research.google.com/assets/colab-badge.svg\" alt=\"Open In Colab\"/></a>"
      ]
    },
    {
      "cell_type": "markdown",
      "metadata": {
        "id": "oKNK3iMn79o0"
      },
      "source": [
        "Lab 1\n",
        "\n",
        "Jacob Williamson\n",
        "\n",
        "3/24/2025"
      ]
    },
    {
      "cell_type": "markdown",
      "source": [
        "# Theory"
      ],
      "metadata": {
        "id": "8u0UvFGLCRP1"
      }
    },
    {
      "cell_type": "markdown",
      "source": [
        "## Importing Packages\n",
        "\n",
        "This must be done by default with every program, the exact reasons are not important at this moment, feel free to copy-n-paste"
      ],
      "metadata": {
        "id": "TXyNhScrS6MN"
      }
    },
    {
      "cell_type": "code",
      "source": [
        "import numpy as np\n",
        "from numpy.linalg import norm\n",
        "from numpy import array, sqrt, zeros, arange\n",
        "import matplotlib.pyplot as plt\n",
        "\n",
        "π = np.pi\n",
        "\n",
        "def d(X):\n",
        "    return np.gradient(X, axis=0)"
      ],
      "metadata": {
        "id": "a3YC-lvlTGB1"
      },
      "execution_count": 1,
      "outputs": []
    },
    {
      "cell_type": "markdown",
      "source": [
        "## The NumPy Array\n",
        "\n",
        "In physics we use vectors, in python, these correspond to arrays: vectors $\\rightarrow$ arrays.\n",
        "\n",
        "Furthermore, collections of vectors may be concatenated to form 2-dimensional arrays.\n",
        "\n",
        "Also the timeline is also a very long array, indicating all moments of time."
      ],
      "metadata": {
        "id": "7lZmEvMWW467"
      }
    },
    {
      "cell_type": "markdown",
      "source": [
        "## Position\n",
        "\n",
        "When we speak about position $\\mathbf{x}$, we talk about an order pair, which may be thought\n",
        "\n"
      ],
      "metadata": {
        "id": "5jxbZUlkCUGv"
      }
    },
    {
      "cell_type": "code",
      "source": [
        "x  = array([1.0, 2.0, 3.0]) # m : position vector\n",
        "\n",
        "x1 = array([3.12, 7.23, 2.23]) # m : position vector\n",
        "x2 = array([9.12, 8.26, 2.87]) # m : position vector"
      ],
      "metadata": {
        "id": "k0Wl4BzdSxkZ"
      },
      "execution_count": 2,
      "outputs": []
    },
    {
      "cell_type": "markdown",
      "source": [
        "## Displacement\n",
        "\n",
        "Displacement is defined as the Change in Position, $\\Delta \\mathbf{x} = \\mathbf{x}_1 - \\mathbf{x}_2$."
      ],
      "metadata": {
        "id": "wqYoJ6g8CzBB"
      }
    },
    {
      "cell_type": "code",
      "source": [
        "Δx = x1 - x2 # m : displacement vector\n",
        "print( Δx )"
      ],
      "metadata": {
        "colab": {
          "base_uri": "https://localhost:8080/"
        },
        "id": "AiPrS8YeTvS6",
        "outputId": "93fd845a-208a-449e-ef6c-3f8ef284ef1a"
      },
      "execution_count": 3,
      "outputs": [
        {
          "output_type": "stream",
          "name": "stdout",
          "text": [
            "[-6.   -1.03 -0.64]\n"
          ]
        }
      ]
    },
    {
      "cell_type": "markdown",
      "source": [
        "## Distance\n",
        "\n",
        "Distance is defined as the norm of the position or displacement vectors, i.e. $\\text{distance} = |\\mathbf{x}| = |\\Delta \\mathbf{x}| $"
      ],
      "metadata": {
        "id": "y8s9I5hKC41d"
      }
    },
    {
      "cell_type": "code",
      "source": [
        "print( norm(Δx), norm(x), norm(x1), norm(x2)  )# m : distances (for the position vectors defined earlier)\n",
        "\n",
        "print( np.sqrt( np.sum( Δx**2 ) ), np.sqrt( sum( x**2 ) ), sqrt( sum( x1**2 ) ), sqrt( sum( x2**2 ) ) ) # m : distances (another way to define)"
      ],
      "metadata": {
        "colab": {
          "base_uri": "https://localhost:8080/"
        },
        "id": "oN5DnmL9T4kE",
        "outputId": "30be8b81-fcc0-41d7-f145-471bf5e0416c"
      },
      "execution_count": 4,
      "outputs": [
        {
          "output_type": "stream",
          "name": "stdout",
          "text": [
            "6.1213152181536925 3.7416573867739413 8.184143205003197 12.63482884727767\n",
            "6.1213152181536925 3.7416573867739413 8.184143205003197 12.63482884727767\n"
          ]
        }
      ]
    },
    {
      "cell_type": "markdown",
      "source": [
        "## Velocity"
      ],
      "metadata": {
        "id": "Vs7PwC-jCrqA"
      }
    },
    {
      "cell_type": "code",
      "source": [
        "v  = array([4.0, 5.0, 6.0]) # m/s : velocity vector\n",
        "\n",
        "v1 = array([4.12, 7.43, 2.63]) # m/s : velocity vector\n",
        "v2 = array([8.72, 2.29, 9.87]) # m/s : velocity vector"
      ],
      "metadata": {
        "id": "l781Gu7rWD1v"
      },
      "execution_count": 5,
      "outputs": []
    },
    {
      "cell_type": "markdown",
      "source": [
        "## Speed\n",
        "\n",
        "Like distance, speed is a scalar quantity, indicating the length of the velocity vector: $v = | \\mathbf{v} |$."
      ],
      "metadata": {
        "id": "38jPRMghC68w"
      }
    },
    {
      "cell_type": "code",
      "source": [
        "print( norm(v), norm(v1), norm(v2)  ) # m/s : speeds (for the velocity vectors defined earlier)\n",
        "print( np.sqrt( np.sum( v**2 ) ), np.sqrt( sum( v1**2 ) ), sqrt( sum( v2**2 ) ) ) # m/s : speeds (another way to define)"
      ],
      "metadata": {
        "colab": {
          "base_uri": "https://localhost:8080/"
        },
        "id": "z8_FrmJuWDaK",
        "outputId": "75f930d8-d3a2-4f47-c6aa-806f01106144"
      },
      "execution_count": 6,
      "outputs": [
        {
          "output_type": "stream",
          "name": "stdout",
          "text": [
            "8.774964387392123 8.893604443643758 13.367849490475272\n",
            "8.774964387392123 8.893604443643758 13.367849490475272\n"
          ]
        }
      ]
    },
    {
      "cell_type": "markdown",
      "source": [
        "## Time Array\n",
        "\n",
        "In our universe we must specifiy the increments of time."
      ],
      "metadata": {
        "id": "f9JPqS1wV7jC"
      }
    },
    {
      "cell_type": "code",
      "source": [
        "dt = 0.5  ## s (detector time resolution)\n",
        "t0 = 0    ## s (initial experiment time)\n",
        "tf = 10.  ## s (final   experiment time)\n",
        "\n",
        "T  = arange(t0, tf, dt)\n",
        "\n",
        "print(T)\n",
        "print(\"we have \" + str(len(T)) + \" time points\")"
      ],
      "metadata": {
        "colab": {
          "base_uri": "https://localhost:8080/"
        },
        "id": "zS2Ay4kCWDG_",
        "outputId": "6588b0a7-3a9f-4a14-d8a8-f06c03c9c922"
      },
      "execution_count": 7,
      "outputs": [
        {
          "output_type": "stream",
          "name": "stdout",
          "text": [
            "[0.  0.5 1.  1.5 2.  2.5 3.  3.5 4.  4.5 5.  5.5 6.  6.5 7.  7.5 8.  8.5\n",
            " 9.  9.5]\n",
            "we have 20 time points\n"
          ]
        }
      ]
    },
    {
      "cell_type": "markdown",
      "source": [
        "## Trajectory\n",
        "\n",
        "A trajectory is a collection of vectors. It is a 2-dimensional array, characterized for each moment in time and 3-Cartesian coordinates (x,y,z).\n",
        "\n",
        "For us, it is initially set to a zero array, it is then progressively filled in."
      ],
      "metadata": {
        "id": "vVZvdbvmCtLV"
      }
    },
    {
      "cell_type": "code",
      "source": [
        "Z = zeros( (len(T), 3) ) ## 3 for Cartesian coordinates, len(T) for number of time-points"
      ],
      "metadata": {
        "id": "6n3oeFHqGgz8"
      },
      "execution_count": 8,
      "outputs": []
    },
    {
      "cell_type": "markdown",
      "source": [
        "## Now the for-loop, lets fill in the Zeros array above\n",
        "\n",
        "Here we fill in the Z array with [1,2,3] for along"
      ],
      "metadata": {
        "id": "cMnc8_kDGhnY"
      }
    },
    {
      "cell_type": "code",
      "source": [
        "for t in range(len(T)):\n",
        "    Z[t] = array([1,2,3]) ## [t] tell the program to fill in the given index, t\n",
        "\n",
        "print(Z)"
      ],
      "metadata": {
        "colab": {
          "base_uri": "https://localhost:8080/"
        },
        "id": "4I28qi33aL-w",
        "outputId": "983da130-b28d-48f8-d5c9-e214f0489441"
      },
      "execution_count": 9,
      "outputs": [
        {
          "output_type": "stream",
          "name": "stdout",
          "text": [
            "[[1. 2. 3.]\n",
            " [1. 2. 3.]\n",
            " [1. 2. 3.]\n",
            " [1. 2. 3.]\n",
            " [1. 2. 3.]\n",
            " [1. 2. 3.]\n",
            " [1. 2. 3.]\n",
            " [1. 2. 3.]\n",
            " [1. 2. 3.]\n",
            " [1. 2. 3.]\n",
            " [1. 2. 3.]\n",
            " [1. 2. 3.]\n",
            " [1. 2. 3.]\n",
            " [1. 2. 3.]\n",
            " [1. 2. 3.]\n",
            " [1. 2. 3.]\n",
            " [1. 2. 3.]\n",
            " [1. 2. 3.]\n",
            " [1. 2. 3.]\n",
            " [1. 2. 3.]]\n"
          ]
        }
      ]
    },
    {
      "cell_type": "markdown",
      "metadata": {
        "id": "e9gm2jlZ3mG_"
      },
      "source": [
        "#   Experiment/Simulation"
      ]
    },
    {
      "cell_type": "markdown",
      "metadata": {
        "id": "PIaHrzp8B-dj"
      },
      "source": [
        "#### Before we start lets define the times in which all our experiments will take place.\n",
        "\n",
        "####  Define a time-increment (Δt), initial (t0), and a final (tf) time for your experiment. And with it a time_array."
      ]
    },
    {
      "cell_type": "code",
      "execution_count": null,
      "metadata": {
        "id": "Qnoj6Tw8B-z4"
      },
      "outputs": [],
      "source": [
        "Δt = 0.01 ### s(detector)\n",
        "t0 = 0\n",
        "tf = 10\n",
        "\n",
        "dt       = Δt\n",
        "timeline = arange(t0, tf, Δt)"
      ]
    },
    {
      "cell_type": "markdown",
      "source": [
        "##   <font color='Red'> **Experiment 1** </font>"
      ],
      "metadata": {
        "id": "hpIvyIymEInM"
      }
    },
    {
      "cell_type": "markdown",
      "metadata": {
        "id": "fRrrh8d4972i"
      },
      "source": [
        "###  To begin lets start with by defining an initial position."
      ]
    },
    {
      "cell_type": "code",
      "execution_count": null,
      "metadata": {
        "id": "C2JeifS89-q_"
      },
      "outputs": [],
      "source": [
        "x_0 = array([1., 0., 0.]) ## m : initial position vector/array"
      ]
    },
    {
      "cell_type": "markdown",
      "metadata": {
        "id": "wYfqEwxMBbd-"
      },
      "source": [
        "### PRINT the distance of the previously defined position vector (give units!)"
      ]
    },
    {
      "cell_type": "code",
      "execution_count": null,
      "metadata": {
        "colab": {
          "base_uri": "https://localhost:8080/"
        },
        "id": "MeQhANuwBUnT",
        "outputId": "890c802f-4d8a-4644-fd5c-04f6bb5a8144"
      },
      "outputs": [
        {
          "output_type": "stream",
          "name": "stdout",
          "text": [
            "the initial distance is 1.000 meters \n"
          ]
        }
      ],
      "source": [
        "distance = norm(x_0)\n",
        "\n",
        "print(\"the initial distance is %4.3f meters \"  % distance)"
      ]
    },
    {
      "cell_type": "markdown",
      "metadata": {
        "id": "IXMFB6BdCnEE"
      },
      "source": [
        "### Define a for-loop to Velocity-Verlet integrate the motion to obtain a x_t."
      ]
    },
    {
      "cell_type": "code",
      "execution_count": null,
      "metadata": {
        "id": "3jHQd2UnBieT"
      },
      "outputs": [],
      "source": [
        "x_t = zeros((len(timeline), 3)) ## initialize position-trajectory (position vectors for all times)\n",
        "v_t = zeros((len(timeline), 3)) ## initialize velocity-trajectory (velocity vectors for all times)\n",
        "\n",
        "x_t[0] = x_0 ## initialize the 0th position-trajectory entry to the initial-position\n",
        "for t in range(1,len(timeline)):\n",
        "    x_t[t] = x_t[t-1] + v_t[t-1] * Δt ## numerically integrate the velocity\n",
        "    v_t[t] = v_t[t-1] ## set new velocity = old velocity (because constant velocity)"
      ]
    },
    {
      "cell_type": "markdown",
      "metadata": {
        "id": "lnVHqv4mC5MS"
      },
      "source": [
        "### Take a time-derivative of x_t to obtain dxdt_t."
      ]
    },
    {
      "cell_type": "code",
      "execution_count": null,
      "metadata": {
        "id": "tfoxqNRiCyym"
      },
      "outputs": [],
      "source": [
        "dxdt_t = d(x_t)/dt ## take numerical-derivative of the aforementioned position-trajectory"
      ]
    },
    {
      "cell_type": "markdown",
      "metadata": {
        "id": "pQINm1ytDDbK"
      },
      "source": [
        "### Make 2 plots of with: x_t and \\{v_t, dxdt_t\\} in matplotlib, both as a function of time. Make sure to include all LABELS!."
      ]
    },
    {
      "cell_type": "code",
      "execution_count": null,
      "metadata": {
        "colab": {
          "base_uri": "https://localhost:8080/",
          "height": 308
        },
        "id": "EbvQZMj9C6gX",
        "outputId": "f8305f33-4a6c-4e95-da7b-c616847ecd4c"
      },
      "outputs": [
        {
          "output_type": "display_data",
          "data": {
            "text/plain": [
              "<Figure size 432x288 with 2 Axes>"
            ],
            "image/png": "[encoded data removed]"
          },
          "metadata": {
            "needs_background": "light"
          }
        }
      ],
      "source": [
        "fig, (ax1, ax2) = plt.subplots(1, 2)\n",
        "fig.suptitle(\"Experiment 1\")\n",
        "fig.subplots_adjust(hspace=0.01, wspace=0.25, right=2)\n",
        "\n",
        "ax1.scatter(timeline, norm(x_t, axis=1), label=\"|x|\")\n",
        "ax1.set_title(\"Distance\")\n",
        "ax1.legend()\n",
        "ax1.set(xlabel=\"time (s)\", ylabel=\"Distance (m)\")\n",
        "\n",
        "ax2.scatter(timeline, norm(v_t, axis=1), label=\"|v|\")\n",
        "ax2.scatter(timeline, norm(dxdt_t, axis=1), label=\"|dx/dt|\")\n",
        "ax2.set_title(\"Speed\")\n",
        "ax2.legend()\n",
        "ax2.set(xlabel=\"time (s)\", ylabel=\"Speed (m/s)\")\n",
        "fig.show()"
      ]
    },
    {
      "cell_type": "markdown",
      "metadata": {
        "id": "AatksBws5jaw"
      },
      "source": [
        "##   <font color='Red'> **Experiment 2** </font>"
      ]
    },
    {
      "cell_type": "markdown",
      "source": [
        "### <font color='Red'> To begin lets start with by defining an initial position and velocity </font>"
      ],
      "metadata": {
        "id": "LYv4FonITRzP"
      }
    },
    {
      "cell_type": "code",
      "execution_count": null,
      "metadata": {
        "id": "YXihspnM3Tom"
      },
      "outputs": [],
      "source": [
        "x_0 = array([1., 0., 0.]) ## m : initial position vector/array\n",
        "v_0 = array([1., 0., 0.]) ## m/s : initial velocity vector/array"
      ]
    },
    {
      "cell_type": "markdown",
      "metadata": {
        "id": "ifmVZSCJ59g9"
      },
      "source": [
        "### <font color='Red'> PRINT out the distance and speed of the previously defined position and velocity vectors: </font>"
      ]
    },
    {
      "cell_type": "code",
      "execution_count": null,
      "metadata": {
        "colab": {
          "base_uri": "https://localhost:8080/"
        },
        "id": "01gIhjIS6Hss",
        "outputId": "e4b7c98f-98ca-416c-859b-ab214d2f9270"
      },
      "outputs": [
        {
          "output_type": "stream",
          "name": "stdout",
          "text": [
            "the initial distance is 1.000 meters \n",
            "the initial speed    is 1.000 meters/second \n"
          ]
        }
      ],
      "source": [
        "distance = norm(x_0)\n",
        "speed    = norm(v_0)\n",
        "\n",
        "print(\"the initial distance is %4.3f meters \"  % distance )\n",
        "print(\"the initial speed    is %4.3f meters/second \"  % speed )"
      ]
    },
    {
      "cell_type": "markdown",
      "metadata": {
        "id": "xmAdr4np6opY"
      },
      "source": [
        "### <font color='Red'> Define a for-loop to Velocity-Verlet integrate the motion to obtain a x_t. </font>"
      ]
    },
    {
      "cell_type": "code",
      "execution_count": null,
      "metadata": {
        "id": "7V87C16B6n9B"
      },
      "outputs": [],
      "source": [
        "x_t = zeros((len(timeline), 3)) ## initialize position-trajectory (position vectors for all times)\n",
        "v_t = zeros((len(timeline), 3)) ## initialize velocity-trajectory (velocity vectors for all times)\n",
        "\n",
        "x_t[0] = x_0 ## initialize the 0th position-trajectory entry to the initial-position\n",
        "v_t[0] = v_0 ## initialize the 0th velocity-trajectory entry to the initial-velocity\n",
        "for t in range(1,len(x_t)):\n",
        "  x_t[t] = x_t[t-1] + v_t[t-1] * Δt ## numerically integrate the velocity\n",
        "  v_t[t] = v_t[t-1] ## set new velocity = old velocity (because constant velocity)"
      ]
    },
    {
      "cell_type": "markdown",
      "metadata": {
        "id": "PlEX8NRZ7AH8"
      },
      "source": [
        "### <font color='Red'> Take a time-derivative of x_t to obtain dxdt_t. </font>\n",
        "\n",
        "### <font color='Red'> Take a time-derivative of v_t to obtain dvdt_t. </font>\n",
        "\n"
      ]
    },
    {
      "cell_type": "code",
      "execution_count": null,
      "metadata": {
        "id": "fhZcODeo7APm"
      },
      "outputs": [],
      "source": [
        "dxdt_t = d(x_t)/dt ## take numerical-derivative of the aforementioned position-trajectory\n",
        "dvdt_t = d(v_t)/dt ## take numerical-derivative of the aforementioned velocity-trajectory"
      ]
    },
    {
      "cell_type": "markdown",
      "metadata": {
        "id": "LsWkbzT87s8-"
      },
      "source": [
        "### <font color='Red'> Calculate the Average Velocity over time, v_t. </font>"
      ]
    },
    {
      "cell_type": "code",
      "execution_count": null,
      "metadata": {
        "colab": {
          "base_uri": "https://localhost:8080/"
        },
        "id": "0BNA-owP7tJp",
        "outputId": "d81c89fc-0de8-441a-fd46-0339edd35304"
      },
      "outputs": [
        {
          "output_type": "execute_result",
          "data": {
            "text/plain": [
              "array([1., 0., 0.])"
            ]
          },
          "metadata": {},
          "execution_count": 20
        }
      ],
      "source": [
        "np.sum(v_t, axis=0)/(len(v_t))"
      ]
    },
    {
      "cell_type": "markdown",
      "metadata": {
        "id": "9_HxKP_G62KQ"
      },
      "source": [
        "### <font color='Red'> Make 3 plots of with: x_t, \\{v_t, dxdt_t\\}, and dvdt_t in matplotlib, both as a function of time. Make sure to include all LABELS!. </font>"
      ]
    },
    {
      "cell_type": "code",
      "execution_count": null,
      "metadata": {
        "colab": {
          "base_uri": "https://localhost:8080/",
          "height": 308
        },
        "id": "u4-vHVgC62kh",
        "outputId": "ad4d31e3-35e5-414f-aebf-9122bea09a74"
      },
      "outputs": [
        {
          "output_type": "display_data",
          "data": {
            "text/plain": [
              "<Figure size 432x288 with 3 Axes>"
            ],
            "image/png": "[encoded data removed]"
          },
          "metadata": {
            "needs_background": "light"
          }
        }
      ],
      "source": [
        "fig, (ax1, ax2, ax3) = plt.subplots(1, 3)\n",
        "fig.suptitle(\"Experiment 2\")\n",
        "fig.subplots_adjust(hspace=0.01, wspace=0.25, right=2)\n",
        "\n",
        "ax1.scatter(timeline, norm(x_t, axis=1), label=\"|x|\")\n",
        "ax1.set_title(\"Distnce\")\n",
        "ax1.legend()\n",
        "ax1.set(xlabel=\"time (s)\", ylabel=\"Distnce from Origin (m)\")\n",
        "\n",
        "ax2.scatter(timeline, norm(v_t   , axis=1), label=\"|v|\")\n",
        "ax2.scatter(timeline, norm(dxdt_t, axis=1), s=15, label=\"|dx/dt|\")\n",
        "ax2.set_title(\"Speed\")\n",
        "ax2.set_ylim([0, 2])\n",
        "ax2.legend()\n",
        "ax2.set(xlabel=\"time (s)\", ylabel=\"Speed (m/s)\")\n",
        "\n",
        "ax3.scatter(timeline, norm(dvdt_t, axis=1), s=15, label=\"|dv/dt|\")\n",
        "ax3.set_ylim([0, 4])\n",
        "ax3.set_title(\"Acceleration\")\n",
        "ax3.set(xlabel=\"time (s)\", ylabel=\"Acceleration (m/s$^2$)\")\n",
        "ax3.legend()\n",
        "fig.show()"
      ]
    },
    {
      "cell_type": "markdown",
      "metadata": {
        "id": "CdwiQSAoE3pY"
      },
      "source": [
        "##   <font color='Red'> **Experiment 3** </font>"
      ]
    },
    {
      "cell_type": "markdown",
      "source": [
        "###  <font color='Red'> To begin lets start with by defining an initial position, velocity, and acceleration </font>"
      ],
      "metadata": {
        "id": "h34NjKFnTXYm"
      }
    },
    {
      "cell_type": "code",
      "execution_count": null,
      "metadata": {
        "id": "Ey0czpxzE2g7"
      },
      "outputs": [],
      "source": [
        "x_0 = array([1., 0., 0.]) ## m : initial position vector/array\n",
        "v_0 = array([1., 0., 0.]) ## m/s : initial velocity vector/array\n",
        "a_0 = array([2., 0., 0.]) ## m/s/s : initial acceleration vector/array"
      ]
    },
    {
      "cell_type": "markdown",
      "metadata": {
        "id": "54ZwZZSrFOZl"
      },
      "source": [
        "###  <font color='Red'> PRINT out the distance, speed, and magnitude of the acceleration of the previously defined vectors: </font>"
      ]
    },
    {
      "cell_type": "code",
      "execution_count": null,
      "metadata": {
        "colab": {
          "base_uri": "https://localhost:8080/"
        },
        "id": "KSw_7CcSFKLu",
        "outputId": "8c0b1190-b5f5-4dc6-c42a-0699dea6963f"
      },
      "outputs": [
        {
          "output_type": "stream",
          "name": "stdout",
          "text": [
            "the initial distance     is 1.000 meters \n",
            "the initial speed        is 1.000 meters/second \n",
            "the initial acceleration is 2.000 meters/second/second \n"
          ]
        }
      ],
      "source": [
        "distance     = norm(x_0)\n",
        "speed        = norm(v_0)\n",
        "acceleration = norm(a_0)\n",
        "\n",
        "print(\"the initial distance     is %4.3f meters \"  % distance)\n",
        "print(\"the initial speed        is %4.3f meters/second \"  % speed)\n",
        "print(\"the initial acceleration is %4.3f meters/second/second \"  % acceleration)"
      ]
    },
    {
      "cell_type": "markdown",
      "metadata": {
        "id": "nPCymXb0Fpo-"
      },
      "source": [
        "###  <font color='Red'> Define a for-loop to Velocity-Verlet integrate the motion to obtain a x_t, v_t, and a_t. </font>"
      ]
    },
    {
      "cell_type": "code",
      "execution_count": null,
      "metadata": {
        "id": "vqMTVUTFFhRa"
      },
      "outputs": [],
      "source": [
        "x_t = zeros((len(timeline), 3)) ## initialize position-trajectory (position vectors for all times)\n",
        "v_t = zeros((len(timeline), 3)) ## initialize velocity-trajectory (velocity vectors for all times)\n",
        "a_t = zeros((len(timeline), 3)) ## initialize acceleration-trajectory (acceleration vectors for all times)\n",
        "\n",
        "x_t[0] = x_0 ## initialize the 0th position-trajectory entry to the initial-position\n",
        "v_t[0] = v_0 ## initialize the 0th velocity-trajectory entry to the initial-velocity\n",
        "a_t[0] = a_0 ## initialize the 0th acceleration-trajectory entry to the initial-acceleration\n",
        "for t in range(1,len(x_t)): ## iteratively run algorithm for all entries (for all time, excluding time 0)\n",
        "  x_t[t] = x_t[t-1] + v_t[t-1] * Δt + 0.5 * a_t[t-1] * Δt*Δt ## Velocity-Verlet Step 1 : find new position from old data\n",
        "  a_t[t] = a_t[t-1] ## Velocity-Verlet Step 2 : find new acceleraiton from old acceleraiton\n",
        "  v_t[t] = v_t[t-1] + 0.5 * ( a_t[t-1] + a_t[t] ) * Δt ## Velocity-Verlet Step 3 : find new velociy from old data & new accleration"
      ]
    },
    {
      "cell_type": "markdown",
      "metadata": {
        "id": "WhoX5PZBGXJS"
      },
      "source": [
        "###  <font color='Red'> Take a time-derivative of x_t to obtain dxdt_t. </font>\n",
        "\n",
        "###  <font color='Red'> Take a time-derivative of v_t to obtain dvdt_t. </font>\n",
        "\n",
        "###  <font color='Red'> Take a time-derivative of a_t to obtain dadt_t. </font>"
      ]
    },
    {
      "cell_type": "code",
      "execution_count": null,
      "metadata": {
        "id": "zWP6KVbGGDMk"
      },
      "outputs": [],
      "source": [
        "dxdt_t = d(x_t)/dt ## take numerical-derivative of the aforementioned position-trajectory\n",
        "dvdt_t = d(v_t)/dt ## take numerical-derivative of the aforementioned velocity-trajectory\n",
        "dadt_t = d(a_t)/dt ## take numerical-derivative of the aforementioned acceleration-trajectory"
      ]
    },
    {
      "cell_type": "markdown",
      "metadata": {
        "id": "oygDwI1qGfpV"
      },
      "source": [
        "###  <font color='Red'> Make 4 plots of with: x_t, \\{v_t, dxdt_t\\}, \\{ a_t, dvdt_t\\}, and dadt_t in matplotlib, all as a function of time. Make sure to include all LABELS!. </font>"
      ]
    },
    {
      "cell_type": "code",
      "execution_count": null,
      "metadata": {
        "colab": {
          "base_uri": "https://localhost:8080/",
          "height": 308
        },
        "id": "34qS5DvaGWYB",
        "outputId": "e9c01f15-b32e-4ec0-8dc1-fb47fd528347"
      },
      "outputs": [
        {
          "output_type": "display_data",
          "data": {
            "text/plain": [
              "<Figure size 432x288 with 4 Axes>"
            ],
            "image/png": "[encoded data removed]"
          },
          "metadata": {
            "needs_background": "light"
          }
        }
      ],
      "source": [
        "fig, (ax1, ax2, ax3, ax4) = plt.subplots(1, 4)\n",
        "fig.suptitle(\"Experiment 3\")\n",
        "fig.subplots_adjust(hspace=0.01, wspace=0.35, right=2)\n",
        "\n",
        "ax1.scatter(timeline, norm(x_t, axis=1), label=\"|x|\")\n",
        "ax1.set_title(\"Distance\")\n",
        "ax1.legend()\n",
        "ax1.set(xlabel=\"time (s)\", ylabel=\"Distnce from Origin (m)\")\n",
        "\n",
        "ax2.scatter(timeline, norm(v_t   , axis=1), label=\"|v|\")\n",
        "ax2.scatter(timeline, norm(dxdt_t, axis=1), s=15, label=\"|dx/dt|\")\n",
        "ax2.set_title(\"Speed\")\n",
        "ax2.legend()\n",
        "ax2.set(xlabel=\"time (s)\", ylabel=\"Speed (m/s)\")\n",
        "\n",
        "ax3.scatter(timeline, norm(a_t   , axis=1), label=\"|a|\")\n",
        "ax3.scatter(timeline, norm(dvdt_t, axis=1), s=15, label=\"|dv/dt|\")\n",
        "ax3.set_ylim([0, 4])\n",
        "ax3.set_title(\"Acceleration\")\n",
        "ax3.legend()\n",
        "ax3.set(xlabel=\"time (s)\", ylabel=\"Acceleration (m/s$^2$)\")\n",
        "\n",
        "ax4.scatter(timeline, norm(dadt_t, axis=1), s=15, label=\"|da/dt|\")\n",
        "ax4.set_ylim([0, 4])\n",
        "ax4.set_title(\"Jerk\")\n",
        "ax4.set(xlabel=\"time (s)\", ylabel=\"Jerk (m/s$^3$)\")\n",
        "ax4.legend()\n",
        "fig.show()"
      ]
    },
    {
      "cell_type": "markdown",
      "metadata": {
        "id": "Gk9ovZyvHs-P"
      },
      "source": [
        "##   <font color='Red'> **Experiment 4** </font>"
      ]
    },
    {
      "cell_type": "markdown",
      "source": [
        "###   <font color='Red'> To begin lets start given the following initial position, velocity, and acceleration, WITH velocity and acceleration in different directions! </font>"
      ],
      "metadata": {
        "id": "WNINnSGHTbz4"
      }
    },
    {
      "cell_type": "code",
      "execution_count": null,
      "metadata": {
        "id": "tvBpr1p6HsWG"
      },
      "outputs": [],
      "source": [
        "x_0 = array([10., 0., 0.]) ## m : initial position vector/array\n",
        "v_0 = array([50., 0., 0.]) ## m/s : initial velocity vector/array\n",
        "a_0 = array([-9.81, 0., 0.]) ## m/s/s : initial acceleration vector/array"
      ]
    },
    {
      "cell_type": "markdown",
      "metadata": {
        "id": "2q2jCTbJHzTv"
      },
      "source": [
        "###  <font color='Red'> Define a for-loop to Velocity-Verlet integrate the motion to obtain a x_t, v_t, and a_t. </font>"
      ]
    },
    {
      "cell_type": "code",
      "execution_count": null,
      "metadata": {
        "id": "lseF9S1MHzve"
      },
      "outputs": [],
      "source": [
        "x_t = zeros((len(timeline), 3)) ## initialize position-trajectory (position vectors for all times)\n",
        "v_t = zeros((len(timeline), 3)) ## initialize velocity-trajectory (velocity vectors for all times)\n",
        "a_t = zeros((len(timeline), 3)) ## initialize acceleration-trajectory (acceleration vectors for all times)\n",
        "\n",
        "x_t[0] = x_0 ## initialize the 0th position-trajectory entry to the initial-position\n",
        "v_t[0] = v_0 ## initialize the 0th velocity-trajectory entry to the initial-velocity\n",
        "a_t[0] = a_0 ## initialize the 0th acceleration-trajectory entry to the initial-acceleration\n",
        "for t in range(1,len(x_t)): ## iteratively run algorithm for all entries (for all time, excluding time 0)\n",
        "  x_t[t] = x_t[t-1] + v_t[t-1] * Δt + 0.5 * a_t[t-1] * Δt*Δt ## Velocity-Verlet Step 1 : find new position from old data\n",
        "  a_t[t] = a_t[t-1] ## Velocity-Verlet Step 2 : find new acceleraiton from old acceleraiton\n",
        "  v_t[t] = v_t[t-1] + 0.5 * ( a_t[t-1] + a_t[t] ) * Δt ## Velocity-Verlet Step 3 : find new velociy from old data & new accleration"
      ]
    },
    {
      "cell_type": "markdown",
      "metadata": {
        "id": "vJAFbAfUH9wV"
      },
      "source": [
        "###  <font color='Red'> Take a time-derivative of x_t to obtain dxdt_t. </font>\n",
        "\n",
        "###  <font color='Red'> Take a time-derivative of v_t to obtain dvdt_t. </font>\n",
        "\n",
        "###  <font color='Red'> Take a time-derivative of a_t to obtain dadt_t. </font>"
      ]
    },
    {
      "cell_type": "code",
      "execution_count": null,
      "metadata": {
        "id": "f08dkiU5H9Bl"
      },
      "outputs": [],
      "source": [
        "dxdt_t = d(x_t)/dt ## take numerical-derivative of the aforementioned position-trajectory\n",
        "dvdt_t = d(v_t)/dt ## take numerical-derivative of the aforementioned velocity-trajectory\n",
        "dadt_t = d(a_t)/dt ## take numerical-derivative of the aforementioned acceleration-trajectory"
      ]
    },
    {
      "cell_type": "markdown",
      "metadata": {
        "id": "xAJmFy9QIDCV"
      },
      "source": [
        "###  <font color='Red'> Make 4 plots of with: x_t, \\{v_t, dxdt_t\\}, \\{ a_t, dvdt_t\\}, and dadt_t in matplotlib, all as a function of time. Make sure to include all LABELS!. </font>"
      ]
    },
    {
      "cell_type": "code",
      "execution_count": null,
      "metadata": {
        "colab": {
          "base_uri": "https://localhost:8080/"
        },
        "id": "3QJDgQZ7IDmE",
        "outputId": "70a93d1a-a2e5-46a8-f178-4333fd5a01fb"
      },
      "outputs": [
        {
          "output_type": "display_data",
          "data": {
            "text/plain": [
              "<Figure size 432x288 with 4 Axes>"
            ],
            "image/png": "[encoded data removed]"
          },
          "metadata": {
            "needs_background": "light"
          }
        }
      ],
      "source": [
        "fig, (ax1, ax2, ax3, ax4) = plt.subplots(1, 4)\n",
        "fig.suptitle(\"Experiment 4\")\n",
        "fig.subplots_adjust(hspace=0.05, wspace=0.35, right=2)\n",
        "\n",
        "ax1.scatter(timeline, norm(x_t, axis=1), label=\"|x|\")\n",
        "ax1.set_title(\"Distance\")\n",
        "ax1.legend()\n",
        "ax1.set(xlabel=\"time (s)\", ylabel=\"Distnce (m)\")\n",
        "\n",
        "ax2.scatter(timeline, norm(v_t   , axis=1), label=\"|v|\")\n",
        "ax2.scatter(timeline, norm(dxdt_t, axis=1), s=15, label=\"|dx/dt|\")\n",
        "ax2.set_title(\"Speed\")\n",
        "ax2.legend()\n",
        "ax2.set(xlabel=\"time (s)\", ylabel=\"Speed (m/s)\")\n",
        "\n",
        "ax3.scatter(timeline, norm(a_t   , axis=1), label=\"|a|\")\n",
        "ax3.scatter(timeline, norm(dvdt_t, axis=1), s=15, label=\"|dv/dt|\")\n",
        "ax3.set_ylim([0, 10])\n",
        "ax3.set_title(\"Acceleration\")\n",
        "ax3.legend()\n",
        "ax3.set(xlabel=\"time (s)\", ylabel=\"Acceleration (m/s$^2$)\")\n",
        "\n",
        "ax4.scatter(timeline, norm(dadt_t, axis=1), s=15, label=\"|da/dt|\")\n",
        "ax4.set_ylim([0, 4])\n",
        "ax4.set_title(\"Jerk\")\n",
        "ax4.legend()\n",
        "ax4.set(xlabel=\"time (s)\", ylabel=\"Jerk (m/s$^3$)\")\n",
        "ax4.legend()\n",
        "fig.show()"
      ]
    },
    {
      "cell_type": "markdown",
      "source": [
        "#   <font color='Red'> **Conclusion** </font>"
      ],
      "metadata": {
        "id": "S_Eilx-OTlDQ"
      }
    },
    {
      "cell_type": "markdown",
      "source": [
        "###  <font color='Red'> Write your Conclusion here, you may type in word-processor, only to copy-n-paste it here. This .ipynb file is your lab report. </font>\n",
        "\n",
        "###  <font color='Red'> Demostrate you understand this lab, this is the most imporant part of the lab report worth half of the total points. </font>"
      ],
      "metadata": {
        "id": "_eni7kLDTnQY"
      }
    },
    {
      "cell_type": "markdown",
      "source": [
        "In the lab, we studied motion under constant acceleration using free fall with gravity. Using Python to model the motion allowed us to keep track of the position and velocity through time of a falling body's center of mass. The results we obtained reiterated the fact that at about the surface of the Earth, the acceleration is constant at 9.81 m/s² causing a linear increase in velocity and a quadratic increase in displacement with time, as anticipated by theory and basic kinematic equations. The experiment enhanced our understanding of gravity-based motion and how computational tools could be used to effectively simulate the phenomena."
      ],
      "metadata": {
        "id": "TOsJqt0aTnXi"
      }
    }
  ],
  "metadata": {
    "colab": {
      "provenance": [],
      "collapsed_sections": [
        "8u0UvFGLCRP1",
        "TXyNhScrS6MN",
        "5jxbZUlkCUGv",
        "wqYoJ6g8CzBB",
        "y8s9I5hKC41d",
        "Vs7PwC-jCrqA",
        "38jPRMghC68w",
        "f9JPqS1wV7jC",
        "vVZvdbvmCtLV",
        "e9gm2jlZ3mG_",
        "Gk9ovZyvHs-P"
      ],
      "include_colab_link": true
    },
    "kernelspec": {
      "display_name": "Python 3",
      "language": "python",
      "name": "python3"
    },
    "language_info": {
      "codemirror_mode": {
        "name": "ipython",
        "version": 3
      },
      "file_extension": ".py",
      "mimetype": "text/x-python",
      "name": "python",
      "nbconvert_exporter": "python",
      "pygments_lexer": "ipython3",
      "version": "3.7.7"
    }
  },
  "nbformat": 4,
  "nbformat_minor": 0
}